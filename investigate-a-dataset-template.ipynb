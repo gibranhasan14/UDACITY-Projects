{
 "cells": [
  {
   "cell_type": "markdown",
   "metadata": {},
   "source": [
    "> **Tip**: Welcome to the Investigate a Dataset project! You will find tips in quoted sections like this to help organize your approach to your investigation. Before submitting your project, it will be a good idea to go back through your report and remove these sections to make the presentation of your work as tidy as possible. First things first, you might want to double-click this Markdown cell and change the title so that it reflects your dataset and investigation.\n",
    "\n",
    "# Project: Investigate a Dataset of Crime in San Francisco (from Kaggle)\n",
    "\n",
    "## Table of Contents\n",
    "<ul>\n",
    "<li><a href=\"#intro\">Introduction</a></li>\n",
    "<li><a href=\"#wrangling\">Data Wrangling</a></li>\n",
    "<li><a href=\"#eda\">Exploratory Data Analysis</a></li>\n",
    "<li><a href=\"#conclusions\">Conclusions</a></li>\n",
    "</ul>"
   ]
  },
  {
   "cell_type": "markdown",
   "metadata": {},
   "source": [
    "<a id='intro'></a>\n",
    "## Introduction\n",
    "\n",
    "> **Tip**: In this section of the report, provide a brief introduction to the dataset you've selected for analysis. At the end of this section, describe the questions that you plan on exploring over the course of the report. Try to build your report around the analysis of at least one dependent variable and three independent variables.\n",
    ">\n",
    "> If you haven't yet selected and downloaded your data, make sure you do that first before coming back here. If you're not sure what questions to ask right now, then make sure you familiarize yourself with the variables and the dataset context for ideas of what to explore.\n",
    "\n",
    "Kaggle dataset:\n",
    "https://www.kaggle.com/c/sf-crime/data"
   ]
  },
  {
   "cell_type": "code",
   "execution_count": 1,
   "metadata": {
    "collapsed": true
   },
   "outputs": [],
   "source": [
    "# Use this cell to set up import statements for all of the packages that you\n",
    "#   plan to use.\n",
    "\n",
    "# Remember to include a 'magic word' so that your visualizations are plotted\n",
    "#   inline with the notebook. See this page for more:\n",
    "#   http://ipython.readthedocs.io/en/stable/interactive/magics.html\n",
    "\n",
    "import pandas as pd\n",
    "import matplotlib\n",
    "import matplotlib.pyplot as plt\n",
    "%matplotlib inline"
   ]
  },
  {
   "cell_type": "markdown",
   "metadata": {},
   "source": [
    "<a id='wrangling'></a>\n",
    "## Data Wrangling\n",
    "\n",
    "> **Tip**: In this section of the report, you will load in the data, check for cleanliness, and then trim and clean your dataset for analysis. Make sure that you document your steps carefully and justify your cleaning decisions.\n",
    "\n",
    "### General Properties"
   ]
  },
  {
   "cell_type": "code",
   "execution_count": 2,
   "metadata": {
    "collapsed": true
   },
   "outputs": [],
   "source": [
    "# Load your data and print out a few lines. Perform operations to inspect data\n",
    "#   types and look for instances of missing or possibly errant data.\n",
    "\n",
    "data = pd.read_csv('kaggle_crime_data_sf.csv')"
   ]
  },
  {
   "cell_type": "code",
   "execution_count": 3,
   "metadata": {},
   "outputs": [
    {
     "data": {
      "text/html": [
       "<div>\n",
       "<style>\n",
       "    .dataframe thead tr:only-child th {\n",
       "        text-align: right;\n",
       "    }\n",
       "\n",
       "    .dataframe thead th {\n",
       "        text-align: left;\n",
       "    }\n",
       "\n",
       "    .dataframe tbody tr th {\n",
       "        vertical-align: top;\n",
       "    }\n",
       "</style>\n",
       "<table border=\"1\" class=\"dataframe\">\n",
       "  <thead>\n",
       "    <tr style=\"text-align: right;\">\n",
       "      <th></th>\n",
       "      <th>Dates</th>\n",
       "      <th>Category</th>\n",
       "      <th>Descript</th>\n",
       "      <th>DayOfWeek</th>\n",
       "      <th>PdDistrict</th>\n",
       "      <th>Resolution</th>\n",
       "      <th>Address</th>\n",
       "      <th>X</th>\n",
       "      <th>Y</th>\n",
       "    </tr>\n",
       "  </thead>\n",
       "  <tbody>\n",
       "    <tr>\n",
       "      <th>0</th>\n",
       "      <td>2015-05-13 23:53:00</td>\n",
       "      <td>WARRANTS</td>\n",
       "      <td>WARRANT ARREST</td>\n",
       "      <td>Wednesday</td>\n",
       "      <td>NORTHERN</td>\n",
       "      <td>ARREST, BOOKED</td>\n",
       "      <td>OAK ST / LAGUNA ST</td>\n",
       "      <td>-122.425892</td>\n",
       "      <td>37.774599</td>\n",
       "    </tr>\n",
       "    <tr>\n",
       "      <th>1</th>\n",
       "      <td>2015-05-13 23:53:00</td>\n",
       "      <td>OTHER OFFENSES</td>\n",
       "      <td>TRAFFIC VIOLATION ARREST</td>\n",
       "      <td>Wednesday</td>\n",
       "      <td>NORTHERN</td>\n",
       "      <td>ARREST, BOOKED</td>\n",
       "      <td>OAK ST / LAGUNA ST</td>\n",
       "      <td>-122.425892</td>\n",
       "      <td>37.774599</td>\n",
       "    </tr>\n",
       "    <tr>\n",
       "      <th>2</th>\n",
       "      <td>2015-05-13 23:33:00</td>\n",
       "      <td>OTHER OFFENSES</td>\n",
       "      <td>TRAFFIC VIOLATION ARREST</td>\n",
       "      <td>Wednesday</td>\n",
       "      <td>NORTHERN</td>\n",
       "      <td>ARREST, BOOKED</td>\n",
       "      <td>VANNESS AV / GREENWICH ST</td>\n",
       "      <td>-122.424363</td>\n",
       "      <td>37.800414</td>\n",
       "    </tr>\n",
       "    <tr>\n",
       "      <th>3</th>\n",
       "      <td>2015-05-13 23:30:00</td>\n",
       "      <td>LARCENY/THEFT</td>\n",
       "      <td>GRAND THEFT FROM LOCKED AUTO</td>\n",
       "      <td>Wednesday</td>\n",
       "      <td>NORTHERN</td>\n",
       "      <td>NONE</td>\n",
       "      <td>1500 Block of LOMBARD ST</td>\n",
       "      <td>-122.426995</td>\n",
       "      <td>37.800873</td>\n",
       "    </tr>\n",
       "    <tr>\n",
       "      <th>4</th>\n",
       "      <td>2015-05-13 23:30:00</td>\n",
       "      <td>LARCENY/THEFT</td>\n",
       "      <td>GRAND THEFT FROM LOCKED AUTO</td>\n",
       "      <td>Wednesday</td>\n",
       "      <td>PARK</td>\n",
       "      <td>NONE</td>\n",
       "      <td>100 Block of BRODERICK ST</td>\n",
       "      <td>-122.438738</td>\n",
       "      <td>37.771541</td>\n",
       "    </tr>\n",
       "  </tbody>\n",
       "</table>\n",
       "</div>"
      ],
      "text/plain": [
       "                 Dates        Category                      Descript  \\\n",
       "0  2015-05-13 23:53:00        WARRANTS                WARRANT ARREST   \n",
       "1  2015-05-13 23:53:00  OTHER OFFENSES      TRAFFIC VIOLATION ARREST   \n",
       "2  2015-05-13 23:33:00  OTHER OFFENSES      TRAFFIC VIOLATION ARREST   \n",
       "3  2015-05-13 23:30:00   LARCENY/THEFT  GRAND THEFT FROM LOCKED AUTO   \n",
       "4  2015-05-13 23:30:00   LARCENY/THEFT  GRAND THEFT FROM LOCKED AUTO   \n",
       "\n",
       "   DayOfWeek PdDistrict      Resolution                    Address  \\\n",
       "0  Wednesday   NORTHERN  ARREST, BOOKED         OAK ST / LAGUNA ST   \n",
       "1  Wednesday   NORTHERN  ARREST, BOOKED         OAK ST / LAGUNA ST   \n",
       "2  Wednesday   NORTHERN  ARREST, BOOKED  VANNESS AV / GREENWICH ST   \n",
       "3  Wednesday   NORTHERN            NONE   1500 Block of LOMBARD ST   \n",
       "4  Wednesday       PARK            NONE  100 Block of BRODERICK ST   \n",
       "\n",
       "            X          Y  \n",
       "0 -122.425892  37.774599  \n",
       "1 -122.425892  37.774599  \n",
       "2 -122.424363  37.800414  \n",
       "3 -122.426995  37.800873  \n",
       "4 -122.438738  37.771541  "
      ]
     },
     "execution_count": 3,
     "metadata": {},
     "output_type": "execute_result"
    }
   ],
   "source": [
    "data.head()"
   ]
  },
  {
   "cell_type": "code",
   "execution_count": 4,
   "metadata": {},
   "outputs": [
    {
     "data": {
      "text/plain": [
       "LARCENY/THEFT                  174900\n",
       "OTHER OFFENSES                 126182\n",
       "NON-CRIMINAL                    92304\n",
       "ASSAULT                         76876\n",
       "DRUG/NARCOTIC                   53971\n",
       "VEHICLE THEFT                   53781\n",
       "VANDALISM                       44725\n",
       "WARRANTS                        42214\n",
       "BURGLARY                        36755\n",
       "SUSPICIOUS OCC                  31414\n",
       "MISSING PERSON                  25989\n",
       "ROBBERY                         23000\n",
       "FRAUD                           16679\n",
       "FORGERY/COUNTERFEITING          10609\n",
       "SECONDARY CODES                  9985\n",
       "WEAPON LAWS                      8555\n",
       "PROSTITUTION                     7484\n",
       "TRESPASS                         7326\n",
       "STOLEN PROPERTY                  4540\n",
       "SEX OFFENSES FORCIBLE            4388\n",
       "DISORDERLY CONDUCT               4320\n",
       "DRUNKENNESS                      4280\n",
       "RECOVERED VEHICLE                3138\n",
       "KIDNAPPING                       2341\n",
       "DRIVING UNDER THE INFLUENCE      2268\n",
       "RUNAWAY                          1946\n",
       "LIQUOR LAWS                      1903\n",
       "ARSON                            1513\n",
       "LOITERING                        1225\n",
       "EMBEZZLEMENT                     1166\n",
       "SUICIDE                           508\n",
       "FAMILY OFFENSES                   491\n",
       "BAD CHECKS                        406\n",
       "BRIBERY                           289\n",
       "EXTORTION                         256\n",
       "SEX OFFENSES NON FORCIBLE         148\n",
       "GAMBLING                          146\n",
       "PORNOGRAPHY/OBSCENE MAT            22\n",
       "TREA                                6\n",
       "Name: Category, dtype: int64"
      ]
     },
     "execution_count": 4,
     "metadata": {},
     "output_type": "execute_result"
    }
   ],
   "source": [
    "data.Category.value_counts()"
   ]
  },
  {
   "cell_type": "code",
   "execution_count": 5,
   "metadata": {},
   "outputs": [
    {
     "data": {
      "text/plain": [
       "GRAND THEFT FROM LOCKED AUTO                                60022\n",
       "LOST PROPERTY                                               31729\n",
       "BATTERY                                                     27441\n",
       "STOLEN AUTOMOBILE                                           26897\n",
       "DRIVERS LICENSE, SUSPENDED OR REVOKED                       26839\n",
       "WARRANT ARREST                                              23754\n",
       "SUSPICIOUS OCCURRENCE                                       21891\n",
       "AIDED CASE, MENTAL DISTURBED                                21497\n",
       "PETTY THEFT FROM LOCKED AUTO                                19771\n",
       "MALICIOUS MISCHIEF, VANDALISM OF VEHICLES                   17789\n",
       "TRAFFIC VIOLATION                                           16471\n",
       "PETTY THEFT OF PROPERTY                                     16196\n",
       "MALICIOUS MISCHIEF, VANDALISM                               15957\n",
       "THREATS AGAINST LIFE                                        14716\n",
       "FOUND PROPERTY                                              12146\n",
       "ENROUTE TO OUTSIDE JURISDICTION                             11470\n",
       "GRAND THEFT OF PROPERTY                                     11010\n",
       "POSSESSION OF NARCOTICS PARAPHERNALIA                       10050\n",
       "PETTY THEFT FROM A BUILDING                                 10029\n",
       "PETTY THEFT SHOPLIFTING                                      9571\n",
       "GRAND THEFT FROM A BUILDING                                  9512\n",
       "FOUND PERSON                                                 9317\n",
       "RESISTING ARREST                                             8983\n",
       "CREDIT CARD, THEFT BY USE OF                                 8877\n",
       "MISSING JUVENILE                                             8620\n",
       "STOLEN TRUCK                                                 8591\n",
       "MISCELLANEOUS INVESTIGATION                                  8389\n",
       "VEHICLE, RECOVERED, AUTO                                     8199\n",
       "MISSING ADULT                                                8052\n",
       "PROBATION VIOLATION                                          8016\n",
       "                                                            ...  \n",
       "EMBEZZLEMENT, GRAND THEFT BY PROPERTY CARRIER                   1\n",
       "DISTURBANCE OF NON-RELIGIOUS, NON-POLITICAL ASSEMBLY            1\n",
       "PUSH-CART PEDDLER PERMIT VIOLATION                              1\n",
       "ASSAULT TO ROB BANK WITH A GUN                                  1\n",
       "SNIPER SCOPE, POSSESSION OF                                     1\n",
       "ALCOHOLIC BEVERAGE, PROCURING SALE OF                           1\n",
       "ATTEMPTED SUICIDE BY DROWNING                                   1\n",
       "ASSAULT OR ATTEMPTED MURDER UPON GOV'T OFFICERS                 1\n",
       "PURCHASE FEMALE FOR THE PURPOSE OF PROSTITUTION                 1\n",
       "TERRORIZING BY MARKING PRIVATE PROPERTY                         1\n",
       "ASSAULT, AGGRAVATED, ON POLICE OFFICER, W/ SEMI AUTO            1\n",
       "ESCAPE FROM HOSPITAL WITH FORCE                                 1\n",
       "FALSE REPRESENTATION TO SECONDHAND DEALER                       1\n",
       "KIDNAPPER, POSING AS                                            1\n",
       "PUTTING SLUGS IN PARKING METERS                                 1\n",
       "ASSAULT, AGGRAVATED, ON POLICE OFFICER, W/ FULL AUTO            1\n",
       "ENCOURAGE MINOR TO USE CONTROLLED SUBSTANCE                     1\n",
       "DOG, FIGHTING;  OWNING, FIGHTING, OR ATTENDING FIGHT            1\n",
       "EMBEZZLEMENT, GRAND THEFT PUBLIC/PRIVATE OFFICIAL               1\n",
       "IMPERSONATING FIRE DEPARTMENT MEMBER                            1\n",
       "BURGLARY,HOTEL UNDER CONSTRUCTION, ATT. FORCIBLE                1\n",
       "ATTEMPTED HOMICIDE WITH EXPLOSIVES                              1\n",
       "BURGLARY,WAREHOUSE UNDER CONSTRT, ATT. FORCIBLE                 1\n",
       "OBSTRUCTING HEALTH FACILITY, PLACE OF WORSHIP, OR SCHOOL        1\n",
       "DISASTER AREA, ENTERING OR REMAINING IN                         1\n",
       "PUBLIC UTILITY INFORMATION, FRAUDULENTLY OBTAINING              1\n",
       "ASSAULT TO ROB WITH BODILY FORCE                                1\n",
       "SOLICITING MINOR TO COMMIT FELONY                               1\n",
       "ATTEMPTED THEFT PHONE BOOTH                                     1\n",
       "THEFT, DRUNK ROLL, ATT.                                         1\n",
       "Name: Descript, Length: 879, dtype: int64"
      ]
     },
     "execution_count": 5,
     "metadata": {},
     "output_type": "execute_result"
    }
   ],
   "source": [
    "data.Descript.value_counts()"
   ]
  },
  {
   "cell_type": "code",
   "execution_count": 6,
   "metadata": {},
   "outputs": [
    {
     "data": {
      "text/plain": [
       "Friday       133734\n",
       "Wednesday    129211\n",
       "Saturday     126810\n",
       "Thursday     125038\n",
       "Tuesday      124965\n",
       "Monday       121584\n",
       "Sunday       116707\n",
       "Name: DayOfWeek, dtype: int64"
      ]
     },
     "execution_count": 6,
     "metadata": {},
     "output_type": "execute_result"
    }
   ],
   "source": [
    "data.DayOfWeek.value_counts()"
   ]
  },
  {
   "cell_type": "code",
   "execution_count": 7,
   "metadata": {},
   "outputs": [
    {
     "data": {
      "text/plain": [
       "SOUTHERN      157182\n",
       "MISSION       119908\n",
       "NORTHERN      105296\n",
       "BAYVIEW        89431\n",
       "CENTRAL        85460\n",
       "TENDERLOIN     81809\n",
       "INGLESIDE      78845\n",
       "TARAVAL        65596\n",
       "PARK           49313\n",
       "RICHMOND       45209\n",
       "Name: PdDistrict, dtype: int64"
      ]
     },
     "execution_count": 7,
     "metadata": {},
     "output_type": "execute_result"
    }
   ],
   "source": [
    "data.PdDistrict.value_counts()"
   ]
  },
  {
   "cell_type": "code",
   "execution_count": 8,
   "metadata": {},
   "outputs": [
    {
     "data": {
      "text/plain": [
       "NONE                                      526790\n",
       "ARREST, BOOKED                            206403\n",
       "ARREST, CITED                              77004\n",
       "LOCATED                                    17101\n",
       "PSYCHOPATHIC CASE                          14534\n",
       "UNFOUNDED                                   9585\n",
       "JUVENILE BOOKED                             5564\n",
       "COMPLAINANT REFUSES TO PROSECUTE            3976\n",
       "DISTRICT ATTORNEY REFUSES TO PROSECUTE      3934\n",
       "NOT PROSECUTED                              3714\n",
       "JUVENILE CITED                              3332\n",
       "PROSECUTED BY OUTSIDE AGENCY                2504\n",
       "EXCEPTIONAL CLEARANCE                       1530\n",
       "JUVENILE ADMONISHED                         1455\n",
       "JUVENILE DIVERTED                            355\n",
       "CLEARED-CONTACT JUVENILE FOR MORE INFO       217\n",
       "PROSECUTED FOR LESSER OFFENSE                 51\n",
       "Name: Resolution, dtype: int64"
      ]
     },
     "execution_count": 8,
     "metadata": {},
     "output_type": "execute_result"
    }
   ],
   "source": [
    "data.Resolution.value_counts()"
   ]
  },
  {
   "cell_type": "code",
   "execution_count": 24,
   "metadata": {},
   "outputs": [
    {
     "data": {
      "text/plain": [
       "[Text(0,0.5,'latitude'),\n",
       " Text(0.5,0,'longitude'),\n",
       " Text(0.5,1,'Geographical location of crimes in SF')]"
      ]
     },
     "execution_count": 24,
     "metadata": {},
     "output_type": "execute_result"
    },
    {
     "data": {
      "image/png": "[encoded data removed]",
      "text/plain": [
       "<matplotlib.figure.Figure at 0x1208d2668>"
      ]
     },
     "metadata": {},
     "output_type": "display_data"
    }
   ],
   "source": [
    "ax = data.plot.scatter(x='X', y='Y') # in the dataset, X is longitude and Y is latitude\n",
    "ax.set(xlabel=\"longitude\", ylabel=\"latitude\", title=\"Geographical location of crimes in SF\")"
   ]
  },
  {
   "cell_type": "code",
   "execution_count": 10,
   "metadata": {},
   "outputs": [
    {
     "data": {
      "text/plain": [
       "count    878049.000000\n",
       "mean       -122.422616\n",
       "std           0.030354\n",
       "min        -122.513642\n",
       "25%        -122.432952\n",
       "50%        -122.416420\n",
       "75%        -122.406959\n",
       "max        -120.500000\n",
       "Name: X, dtype: float64"
      ]
     },
     "execution_count": 10,
     "metadata": {},
     "output_type": "execute_result"
    }
   ],
   "source": [
    "data.X.describe()"
   ]
  },
  {
   "cell_type": "code",
   "execution_count": 11,
   "metadata": {},
   "outputs": [
    {
     "data": {
      "text/plain": [
       "count    878049.000000\n",
       "mean         37.771020\n",
       "std           0.456893\n",
       "min          37.707879\n",
       "25%          37.752427\n",
       "50%          37.775421\n",
       "75%          37.784369\n",
       "max          90.000000\n",
       "Name: Y, dtype: float64"
      ]
     },
     "execution_count": 11,
     "metadata": {},
     "output_type": "execute_result"
    }
   ],
   "source": [
    "data.Y.describe()"
   ]
  },
  {
   "cell_type": "code",
   "execution_count": 12,
   "metadata": {},
   "outputs": [
    {
     "data": {
      "text/html": [
       "<div>\n",
       "<style>\n",
       "    .dataframe thead tr:only-child th {\n",
       "        text-align: right;\n",
       "    }\n",
       "\n",
       "    .dataframe thead th {\n",
       "        text-align: left;\n",
       "    }\n",
       "\n",
       "    .dataframe tbody tr th {\n",
       "        vertical-align: top;\n",
       "    }\n",
       "</style>\n",
       "<table border=\"1\" class=\"dataframe\">\n",
       "  <thead>\n",
       "    <tr style=\"text-align: right;\">\n",
       "      <th></th>\n",
       "      <th>Dates</th>\n",
       "      <th>Category</th>\n",
       "      <th>Descript</th>\n",
       "      <th>DayOfWeek</th>\n",
       "      <th>PdDistrict</th>\n",
       "      <th>Resolution</th>\n",
       "      <th>Address</th>\n",
       "      <th>X</th>\n",
       "      <th>Y</th>\n",
       "    </tr>\n",
       "  </thead>\n",
       "  <tbody>\n",
       "    <tr>\n",
       "      <th>660485</th>\n",
       "      <td>2005-12-30 17:00:00</td>\n",
       "      <td>LARCENY/THEFT</td>\n",
       "      <td>GRAND THEFT FROM LOCKED AUTO</td>\n",
       "      <td>Friday</td>\n",
       "      <td>TENDERLOIN</td>\n",
       "      <td>NONE</td>\n",
       "      <td>5THSTNORTH ST / OFARRELL ST</td>\n",
       "      <td>-120.5</td>\n",
       "      <td>90.0</td>\n",
       "    </tr>\n",
       "    <tr>\n",
       "      <th>660711</th>\n",
       "      <td>2005-12-30 00:34:00</td>\n",
       "      <td>ASSAULT</td>\n",
       "      <td>INFLICT INJURY ON COHABITEE</td>\n",
       "      <td>Friday</td>\n",
       "      <td>BAYVIEW</td>\n",
       "      <td>ARREST, BOOKED</td>\n",
       "      <td>JAMESLICKFREEWAY HY / SILVER AV</td>\n",
       "      <td>-120.5</td>\n",
       "      <td>90.0</td>\n",
       "    </tr>\n",
       "    <tr>\n",
       "      <th>660712</th>\n",
       "      <td>2005-12-30 00:34:00</td>\n",
       "      <td>ASSAULT</td>\n",
       "      <td>AGGRAVATED ASSAULT WITH BODILY FORCE</td>\n",
       "      <td>Friday</td>\n",
       "      <td>BAYVIEW</td>\n",
       "      <td>ARREST, BOOKED</td>\n",
       "      <td>JAMESLICKFREEWAY HY / SILVER AV</td>\n",
       "      <td>-120.5</td>\n",
       "      <td>90.0</td>\n",
       "    </tr>\n",
       "    <tr>\n",
       "      <th>661106</th>\n",
       "      <td>2005-12-29 00:07:00</td>\n",
       "      <td>NON-CRIMINAL</td>\n",
       "      <td>AIDED CASE, MENTAL DISTURBED</td>\n",
       "      <td>Thursday</td>\n",
       "      <td>TENDERLOIN</td>\n",
       "      <td>PSYCHOPATHIC CASE</td>\n",
       "      <td>5THSTNORTH ST / EDDY ST</td>\n",
       "      <td>-120.5</td>\n",
       "      <td>90.0</td>\n",
       "    </tr>\n",
       "    <tr>\n",
       "      <th>666430</th>\n",
       "      <td>2005-11-30 11:25:00</td>\n",
       "      <td>OTHER OFFENSES</td>\n",
       "      <td>TRAFFIC VIOLATION</td>\n",
       "      <td>Wednesday</td>\n",
       "      <td>TENDERLOIN</td>\n",
       "      <td>ARREST, CITED</td>\n",
       "      <td>5THSTNORTH ST / ELLIS ST</td>\n",
       "      <td>-120.5</td>\n",
       "      <td>90.0</td>\n",
       "    </tr>\n",
       "    <tr>\n",
       "      <th>667042</th>\n",
       "      <td>2005-11-28 16:04:00</td>\n",
       "      <td>TRESPASS</td>\n",
       "      <td>TRESPASSING</td>\n",
       "      <td>Monday</td>\n",
       "      <td>TENDERLOIN</td>\n",
       "      <td>ARREST, BOOKED</td>\n",
       "      <td>ELLIS ST / 5THSTNORTH ST</td>\n",
       "      <td>-120.5</td>\n",
       "      <td>90.0</td>\n",
       "    </tr>\n",
       "    <tr>\n",
       "      <th>669946</th>\n",
       "      <td>2005-11-14 09:20:00</td>\n",
       "      <td>OTHER OFFENSES</td>\n",
       "      <td>DRIVERS LICENSE, SUSPENDED OR REVOKED</td>\n",
       "      <td>Monday</td>\n",
       "      <td>BAYVIEW</td>\n",
       "      <td>ARREST, BOOKED</td>\n",
       "      <td>YOSEMITE AV / WILLIAMS AV</td>\n",
       "      <td>-120.5</td>\n",
       "      <td>90.0</td>\n",
       "    </tr>\n",
       "    <tr>\n",
       "      <th>671709</th>\n",
       "      <td>2005-11-02 20:30:00</td>\n",
       "      <td>OTHER OFFENSES</td>\n",
       "      <td>MISCELLANEOUS INVESTIGATION</td>\n",
       "      <td>Wednesday</td>\n",
       "      <td>CENTRAL</td>\n",
       "      <td>NONE</td>\n",
       "      <td>BRENHAM PL / WASHINGTON ST</td>\n",
       "      <td>-120.5</td>\n",
       "      <td>90.0</td>\n",
       "    </tr>\n",
       "    <tr>\n",
       "      <th>673078</th>\n",
       "      <td>2005-10-23 20:00:00</td>\n",
       "      <td>LARCENY/THEFT</td>\n",
       "      <td>GRAND THEFT FROM LOCKED AUTO</td>\n",
       "      <td>Sunday</td>\n",
       "      <td>RICHMOND</td>\n",
       "      <td>NONE</td>\n",
       "      <td>AVENUE OF THE PALMS / GEARY BL</td>\n",
       "      <td>-120.5</td>\n",
       "      <td>90.0</td>\n",
       "    </tr>\n",
       "    <tr>\n",
       "      <th>673114</th>\n",
       "      <td>2005-10-23 18:11:00</td>\n",
       "      <td>WARRANTS</td>\n",
       "      <td>ENROUTE TO OUTSIDE JURISDICTION</td>\n",
       "      <td>Sunday</td>\n",
       "      <td>TARAVAL</td>\n",
       "      <td>ARREST, BOOKED</td>\n",
       "      <td>STCHARLES AV / 19TH AV</td>\n",
       "      <td>-120.5</td>\n",
       "      <td>90.0</td>\n",
       "    </tr>\n",
       "  </tbody>\n",
       "</table>\n",
       "</div>"
      ],
      "text/plain": [
       "                      Dates        Category  \\\n",
       "660485  2005-12-30 17:00:00   LARCENY/THEFT   \n",
       "660711  2005-12-30 00:34:00         ASSAULT   \n",
       "660712  2005-12-30 00:34:00         ASSAULT   \n",
       "661106  2005-12-29 00:07:00    NON-CRIMINAL   \n",
       "666430  2005-11-30 11:25:00  OTHER OFFENSES   \n",
       "667042  2005-11-28 16:04:00        TRESPASS   \n",
       "669946  2005-11-14 09:20:00  OTHER OFFENSES   \n",
       "671709  2005-11-02 20:30:00  OTHER OFFENSES   \n",
       "673078  2005-10-23 20:00:00   LARCENY/THEFT   \n",
       "673114  2005-10-23 18:11:00        WARRANTS   \n",
       "\n",
       "                                     Descript  DayOfWeek  PdDistrict  \\\n",
       "660485           GRAND THEFT FROM LOCKED AUTO     Friday  TENDERLOIN   \n",
       "660711            INFLICT INJURY ON COHABITEE     Friday     BAYVIEW   \n",
       "660712   AGGRAVATED ASSAULT WITH BODILY FORCE     Friday     BAYVIEW   \n",
       "661106           AIDED CASE, MENTAL DISTURBED   Thursday  TENDERLOIN   \n",
       "666430                      TRAFFIC VIOLATION  Wednesday  TENDERLOIN   \n",
       "667042                            TRESPASSING     Monday  TENDERLOIN   \n",
       "669946  DRIVERS LICENSE, SUSPENDED OR REVOKED     Monday     BAYVIEW   \n",
       "671709            MISCELLANEOUS INVESTIGATION  Wednesday     CENTRAL   \n",
       "673078           GRAND THEFT FROM LOCKED AUTO     Sunday    RICHMOND   \n",
       "673114        ENROUTE TO OUTSIDE JURISDICTION     Sunday     TARAVAL   \n",
       "\n",
       "               Resolution                          Address      X     Y  \n",
       "660485               NONE      5THSTNORTH ST / OFARRELL ST -120.5  90.0  \n",
       "660711     ARREST, BOOKED  JAMESLICKFREEWAY HY / SILVER AV -120.5  90.0  \n",
       "660712     ARREST, BOOKED  JAMESLICKFREEWAY HY / SILVER AV -120.5  90.0  \n",
       "661106  PSYCHOPATHIC CASE          5THSTNORTH ST / EDDY ST -120.5  90.0  \n",
       "666430      ARREST, CITED         5THSTNORTH ST / ELLIS ST -120.5  90.0  \n",
       "667042     ARREST, BOOKED         ELLIS ST / 5THSTNORTH ST -120.5  90.0  \n",
       "669946     ARREST, BOOKED        YOSEMITE AV / WILLIAMS AV -120.5  90.0  \n",
       "671709               NONE       BRENHAM PL / WASHINGTON ST -120.5  90.0  \n",
       "673078               NONE   AVENUE OF THE PALMS / GEARY BL -120.5  90.0  \n",
       "673114     ARREST, BOOKED           STCHARLES AV / 19TH AV -120.5  90.0  "
      ]
     },
     "execution_count": 12,
     "metadata": {},
     "output_type": "execute_result"
    }
   ],
   "source": [
    "data[data.Y == 90].head(10)"
   ]
  },
  {
   "cell_type": "markdown",
   "metadata": {},
   "source": [
    "#### Obs. about that latitude (column Y) and longitude (column X):\n",
    "Some latitudes/longitudes seem to be wrong, as they do not fall in San Francisco. I saw that making the scatter plot and checking the lat./long. on Google Maps. When I tried to find a few of these addresses, I realized that the addresses were not well defined (e.g. crossing of two parallel streets). <i>This should be taken into account, if we decide to create a heat map with Google Maps. <b>However, I decided not to remove these rows from the data, because they have the district and other useful information (e.g. type of crime and day of week)</b></i>."
   ]
  },
  {
   "cell_type": "markdown",
   "metadata": {},
   "source": [
    "> **Tip**: You should _not_ perform too many operations in each cell. Create cells freely to explore your data. One option that you can take with this project is to do a lot of explorations in an initial notebook. These don't have to be organized, but make sure you use enough comments to understand the purpose of each code cell. Then, after you're done with your analysis, create a duplicate notebook where you will trim the excess and organize your steps so that you have a flowing, cohesive report.\n",
    "\n",
    "> **Tip**: Make sure that you keep your reader informed on the steps that you are taking in your investigation. Follow every code cell, or every set of related code cells, with a markdown cell to describe to the reader what was found in the preceding cell(s). Try to make it so that the reader can then understand what they will be seeing in the following cell(s).\n",
    "\n",
    "### Data Cleaning\n",
    "\n",
    "As I said previously, I noticed that some rows don't have the correct latitudes and longitudes, but I decided not to remove it because they have enough information about the type of crime, day of week and the district."
   ]
  },
  {
   "cell_type": "markdown",
   "metadata": {},
   "source": [
    "<a id='eda'></a>\n",
    "## Exploratory Data Analysis\n",
    "\n",
    "> **Tip**: Now that you've trimmed and cleaned your data, you're ready to move on to exploration. Compute statistics and create visualizations with the goal of addressing the research questions that you posed in the Introduction section. It is recommended that you be systematic with your approach. Look at one variable at a time, and then follow it up by looking at relationships between variables.\n",
    "\n",
    "### Research Question 1 - What's the distribution of crimes per day of week per district?"
   ]
  },
  {
   "cell_type": "markdown",
   "metadata": {},
   "source": [
    "Here we are trying to see in which days the police has to work more (or maybe we would need more policemen in the streets). Are the crimes on weekends less frequent? That's what we will try to see."
   ]
  },
  {
   "cell_type": "code",
   "execution_count": 23,
   "metadata": {},
   "outputs": [
    {
     "data": {
      "text/plain": [
       "[Text(0,0.5,'day of week'),\n",
       " Text(0.5,0,'no. of crimes'),\n",
       " Text(0.5,1,'No. of crimes per day of week in SF')]"
      ]
     },
     "execution_count": 23,
     "metadata": {},
     "output_type": "execute_result"
    },
    {
     "data": {
      "image/png": "[encoded data removed]",
      "text/plain": [
       "<matplotlib.figure.Figure at 0x128ae9f98>"
      ]
     },
     "metadata": {},
     "output_type": "display_data"
    }
   ],
   "source": [
    "ax = data.DayOfWeek.value_counts().plot('barh')\n",
    "ax.set(xlabel=\"no. of crimes\", ylabel=\"day of week\", title=\"No. of crimes per day of week in SF\")"
   ]
  },
  {
   "cell_type": "markdown",
   "metadata": {},
   "source": [
    "#### Comments\n",
    "In the plot above, we can see that the crimes are more common on Fridays and less common on Sundays. I believe this could also be related to the number of people on streets. As on Sundays there is less people on streets, the amount of crimes is less. After that, I decided to see the relatioship between day of the week and the district? Is the distribution different? According to the plots below, the answer is no."
   ]
  },
  {
   "cell_type": "code",
   "execution_count": 25,
   "metadata": {},
   "outputs": [
    {
     "data": {
      "text/plain": [
       "[Text(0,0.5,'day of week'),\n",
       " Text(0.5,0,'no. of crimes'),\n",
       " Text(0.5,1,'No. of crimes per day of week and district in SF')]"
      ]
     },
     "execution_count": 25,
     "metadata": {},
     "output_type": "execute_result"
    },
    {
     "data": {
      "image/png": "[encoded data removed]",
      "text/plain": [
       "<matplotlib.figure.Figure at 0x11fc1b710>"
      ]
     },
     "metadata": {},
     "output_type": "display_data"
    }
   ],
   "source": [
    "ax = data[['PdDistrict', 'DayOfWeek']].groupby(['PdDistrict', 'DayOfWeek'])['DayOfWeek'].count().unstack('PdDistrict').plot.barh(stacked=True)\n",
    "ax.set(xlabel=\"no. of crimes\", ylabel=\"day of week\", title=\"No. of crimes per day of week and district in SF\")"
   ]
  },
  {
   "cell_type": "code",
   "execution_count": 26,
   "metadata": {},
   "outputs": [
    {
     "data": {
      "text/plain": [
       "[Text(0,0.5,'districts'),\n",
       " Text(0.5,0,'no. of crimes'),\n",
       " Text(0.5,1,'No. of crimes per day of week and district in SF')]"
      ]
     },
     "execution_count": 26,
     "metadata": {},
     "output_type": "execute_result"
    },
    {
     "data": {
      "image/png": "[encoded data removed]",
      "text/plain": [
       "<matplotlib.figure.Figure at 0x1129970b8>"
      ]
     },
     "metadata": {},
     "output_type": "display_data"
    }
   ],
   "source": [
    "ax = data[['PdDistrict', 'DayOfWeek']].groupby(['PdDistrict', 'DayOfWeek'])['DayOfWeek'].count().unstack('DayOfWeek').plot.barh(stacked=True)\n",
    "ax.set(xlabel=\"no. of crimes\", ylabel=\"districts\", title=\"No. of crimes per day of week and district in SF\")"
   ]
  },
  {
   "cell_type": "markdown",
   "metadata": {},
   "source": [
    "### Research Question 2  - How are the crimes distributed per month?"
   ]
  },
  {
   "cell_type": "markdown",
   "metadata": {},
   "source": [
    "For the following plot, we want to analyze the distribution of crimes per month during the year. Before plotting this, I didn't have any hypothesis in mind, but I thought that maybe in the winter there is less people in the streets, so the number of crimes would be less."
   ]
  },
  {
   "cell_type": "code",
   "execution_count": 27,
   "metadata": {},
   "outputs": [
    {
     "data": {
      "text/plain": [
       "[Text(0,0.5,'No. of crimes'),\n",
       " Text(0.5,0,'Month'),\n",
       " Text(0.5,1,'No. of crimes per month in SF')]"
      ]
     },
     "execution_count": 27,
     "metadata": {},
     "output_type": "execute_result"
    },
    {
     "data": {
      "image/png": "[encoded data removed]",
      "text/plain": [
       "<matplotlib.figure.Figure at 0x11fc3da58>"
      ]
     },
     "metadata": {},
     "output_type": "display_data"
    }
   ],
   "source": [
    "data['month'] = pd.to_datetime(data.Dates, format=\"%Y-%m-%d\")\n",
    "data['month'] = data['month'].map(lambda x: x.month)\n",
    "ax = data['month'].value_counts(sort=False).plot('bar') \n",
    "ax.set(xlabel=\"Month\", ylabel=\"No. of crimes\", title=\"No. of crimes per month in SF\")"
   ]
  },
  {
   "cell_type": "markdown",
   "metadata": {},
   "source": [
    "#### Interesting finding\n",
    "Interestingly, the number of crimes is lower during the winter (December to February) and the summer (June to August), and higher during the spring (March to May) and the fall (September to November). "
   ]
  },
  {
   "cell_type": "markdown",
   "metadata": {},
   "source": [
    "<a id='conclusions'></a>\n",
    "## Conclusions\n",
    "\n",
    "> **Tip**: Finally, summarize your findings and the results that have been performed. Make sure that you are clear with regards to the limitations of your exploration. If you haven't done any statistical tests, do not imply any statistical conclusions. And make sure you avoid implying causation from correlation!\n",
    "\n",
    "> **Tip**: Once you are satisfied with your work, you should save a copy of the report in HTML or PDF form via the **File** > **Download as** submenu. Before exporting your report, check over it to make sure that the flow of the report is complete. You should probably remove all of the \"Tip\" quotes like this one so that the presentation is as tidy as possible. Congratulations!"
   ]
  },
  {
   "cell_type": "markdown",
   "metadata": {
    "collapsed": true
   },
   "source": [
    "<b>1.</b> Sunday is the day of week of apparently less crime, whereas Friday seems to be the most \"criminal\" day. To make sure that this is not due chance, we would have to perform a statistical test. Maybe we would also have to compare the number of crimes with the number of people on streets in each day, but unfortunately we don't have this information, which is a limitation.<br />\n",
    "<b>2.</b> It seems that the number of crimes per day of the week does not change from district to district. This is also concluded only by visualization, but we would have to apply a statistical test to confirm that the proportions don't change.<br />\n",
    "<b>3.</b> For some reason, crimes ocurr less during the summer and during the winter. Maybe because of vacations? Unfortunately we can't make these assumptions. Again, here we have the limitation of not having the information about the number of people on streets. In this case (having more information), we would be able to compute other metrics, as: number of crimes per number of people on streets (per day of week/month, per month/season and per district)."
   ]
  },
  {
   "cell_type": "code",
   "execution_count": null,
   "metadata": {
    "collapsed": true
   },
   "outputs": [],
   "source": []
  }
 ],
 "metadata": {
  "kernelspec": {
   "display_name": "Python 3",
   "language": "python",
   "name": "python3"
  },
  "language_info": {
   "codemirror_mode": {
    "name": "ipython",
    "version": 3
   },
   "file_extension": ".py",
   "mimetype": "text/x-python",
   "name": "python",
   "nbconvert_exporter": "python",
   "pygments_lexer": "ipython3",
   "version": "3.6.3"
  }
 },
 "nbformat": 4,
 "nbformat_minor": 2
}
